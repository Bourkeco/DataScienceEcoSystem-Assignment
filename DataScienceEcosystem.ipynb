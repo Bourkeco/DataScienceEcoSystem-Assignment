{
 "cells": [
  {
   "cell_type": "markdown",
   "id": "0c345d3a-bec8-45db-a7a1-f816741edf30",
   "metadata": {},
   "source": [
    "## Exercise 1: Create a Jupyter Notebook\n",
    "##### Create a new Jupyter notebook called DataScienceEcosystem.ipynb"
   ]
  },
  {
   "cell_type": "markdown",
   "id": "cc32d8f9-fbec-49d0-90ad-e5c793117c1c",
   "metadata": {
    "tags": []
   },
   "source": [
    "Completed"
   ]
  },
  {
   "cell_type": "markdown",
   "id": "46353fa7-ec27-45e4-85e7-7ffbe73efaee",
   "metadata": {},
   "source": [
    "## Exercise 2, 3, 4, 5, 6, 7"
   ]
  },
  {
   "cell_type": "markdown",
   "id": "7f19c2cc-178d-4bb1-80c5-395eb7cb3e16",
   "metadata": {},
   "source": [
    "# Data Science Tools and Ecosystem"
   ]
  },
  {
   "cell_type": "markdown",
   "id": "b323e7ad-13a3-4c4c-acd3-40e6afa77167",
   "metadata": {},
   "source": [
    "In this notebook, Data Science Tools and Ecosystem are summarized."
   ]
  },
  {
   "cell_type": "markdown",
   "id": "ebbeda74-030f-44b0-a0ee-e516fa29b5dd",
   "metadata": {},
   "source": [
    "**Objectives:**\n",
    "- List popular languages for Data Science\n",
    "- List some of the commonly used libraries used by Data Scientists\n",
    "- Create an example table including some commonly used open-source development environments\n",
    "- Deliver a few examples of evaluating arithmetic expression in Python"
   ]
  },
  {
   "cell_type": "markdown",
   "id": "afac43a9-675e-4e45-be29-dbaf6d0e21e4",
   "metadata": {},
   "source": [
    "Some of the popular languages that Data Scientists use are:\n",
    "1. Python\n",
    "2. R\n",
    "3. SQL\n",
    "4. Java"
   ]
  },
  {
   "cell_type": "markdown",
   "id": "23d84777-4ae2-4731-a246-17c18b0a6149",
   "metadata": {},
   "source": [
    "Some of the commonly used libraries used by Data Scientists include:\n",
    "1. Numpy\n",
    "2. Pandas\n",
    "3. Seaborn\n",
    "4. Matplotlib\n",
    "5. Tensorflow\n",
    "6. PyTorch"
   ]
  },
  {
   "cell_type": "markdown",
   "id": "03385b65-3b2a-4b94-b73b-171071274544",
   "metadata": {},
   "source": [
    "| Data Science Tools        |\n",
    "|---------------------------|\n",
    "| Jupyter Notebooks         |\n",
    "| RStudio                   |\n",
    "| Visual Studio Code        |"
   ]
  },
  {
   "cell_type": "markdown",
   "id": "9ff0fc4d-683e-42e3-95c6-ebed6a309f55",
   "metadata": {},
   "source": [
    "### Below are a few examples of evaluating arithmetic expression in Python"
   ]
  },
  {
   "cell_type": "code",
   "execution_count": 3,
   "id": "cacce822-8b88-4db1-802f-36be874b8c3a",
   "metadata": {
    "tags": []
   },
   "outputs": [
    {
     "data": {
      "text/plain": [
       "17"
      ]
     },
     "execution_count": 3,
     "metadata": {},
     "output_type": "execute_result"
    }
   ],
   "source": [
    "## This is a simple arithmetic expression to multiply then add integers\n",
    "(3*4)+5"
   ]
  },
  {
   "cell_type": "code",
   "execution_count": 4,
   "id": "3acb27bb-51c1-4149-a58f-3540e59492af",
   "metadata": {
    "tags": []
   },
   "outputs": [
    {
     "name": "stdout",
     "output_type": "stream",
     "text": [
      "3.3333333333333335\n"
     ]
    }
   ],
   "source": [
    "## This will convert 200 minutes to hours by dividing by '60'\n",
    "\n",
    "minutes = 200\n",
    "hours = minutes/60\n",
    "print(hours)"
   ]
  },
  {
   "cell_type": "markdown",
   "id": "c913f1d2-4768-4c6c-aead-7f73c3783da3",
   "metadata": {},
   "source": [
    "## Author\n",
    "Cormac Bourke"
   ]
  },
  {
   "cell_type": "code",
   "execution_count": null,
   "id": "9c877fb7-3fd5-4934-a2ba-c81ce2d257ff",
   "metadata": {},
   "outputs": [],
   "source": []
  }
 ],
 "metadata": {
  "kernelspec": {
   "display_name": "Python 3 (ipykernel)",
   "language": "python",
   "name": "python3"
  },
  "language_info": {
   "codemirror_mode": {
    "name": "ipython",
    "version": 3
   },
   "file_extension": ".py",
   "mimetype": "text/x-python",
   "name": "python",
   "nbconvert_exporter": "python",
   "pygments_lexer": "ipython3",
   "version": "3.10.12"
  }
 },
 "nbformat": 4,
 "nbformat_minor": 5
}
